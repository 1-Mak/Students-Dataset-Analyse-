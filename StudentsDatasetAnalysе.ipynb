{
  "nbformat": 4,
  "nbformat_minor": 0,
  "metadata": {
    "colab": {
      "provenance": []
    },
    "kernelspec": {
      "name": "python3",
      "display_name": "Python 3"
    },
    "language_info": {
      "name": "python"
    }
  },
  "cells": [
    {
      "cell_type": "code",
      "source": [
        "import pandas as pd\n",
        "import time\n",
        "import matplotlib.pyplot as plt\n",
        "plt.style.use('ggplot')"
      ],
      "metadata": {
        "id": "48YCCc4RCzH2"
      },
      "execution_count": null,
      "outputs": []
    },
    {
      "cell_type": "code",
      "execution_count": null,
      "metadata": {
        "colab": {
          "base_uri": "https://localhost:8080/"
        },
        "id": "lGrxr38iCwWu",
        "outputId": "9b403c73-b0c9-4ea9-8e64-54ee9e917204"
      },
      "outputs": [
        {
          "output_type": "stream",
          "name": "stdout",
          "text": [
            "       gender race/ethnicity parental level of education         lunch  \\\n",
            "index                                                                    \n",
            "0      female        group B           bachelor's degree      standard   \n",
            "1      female        group C                some college      standard   \n",
            "2      female        group B             master's degree      standard   \n",
            "3        male        group A          associate's degree  free/reduced   \n",
            "4        male        group C                some college      standard   \n",
            "\n",
            "      test preparation course   group  math score  reading score  \\\n",
            "index                                                              \n",
            "0                        none  group1          72             72   \n",
            "1                   completed  group1          69             90   \n",
            "2                        none  group1          90             95   \n",
            "3                        none  group1          47             57   \n",
            "4                        none  group1          76             78   \n",
            "\n",
            "       writing score  \n",
            "index                 \n",
            "0                 74  \n",
            "1                 88  \n",
            "2                 93  \n",
            "3                 44  \n",
            "4                 75  \n"
          ]
        }
      ],
      "source": [
        "info0 = pd.read_csv(\"/content/Students_info_0.csv\", index_col = 0)\n",
        "info1 = pd.read_csv(\"/content/Students_info_1.csv\", index_col = 0)\n",
        "info2 = pd.read_csv(\"/content/Students_info_2.csv\", index_col = 0)\n",
        "info3 = pd.read_csv(\"/content/Students_info_3.csv\", index_col = 0)\n",
        "info4 = pd.read_csv(\"/content/Students_info_4.csv\", index_col = 0)\n",
        "info5 = pd.read_csv(\"/content/Students_info_5.csv\", index_col = 0)\n",
        "info6 = pd.read_csv(\"/content/Students_info_6.csv\", index_col = 0)\n",
        "info7 = pd.read_csv(\"/content/Students_info_7.csv\", index_col = 0)\n",
        "info8 = pd.read_csv(\"/content/Students_info_8.csv\", index_col = 0)\n",
        "info9 = pd.read_csv(\"/content/Students_info_9.csv\", index_col = 0)\n",
        "marks0 = pd.read_csv(\"/content/Students_marks_0.csv\", index_col = 0)\n",
        "marks1 = pd.read_csv(\"/content/Students_marks_1.csv\", index_col = 0)\n",
        "marks2 = pd.read_csv(\"/content/Students_marks_2.csv\", index_col = 0)\n",
        "marks3 = pd.read_csv(\"/content/Students_marks_3.csv\", index_col = 0)\n",
        "marks4 = pd.read_csv(\"/content/Students_marks_4.csv\", index_col = 0)\n",
        "marks5 = pd.read_csv(\"/content/Students_marks_5.csv\", index_col = 0)\n",
        "marks6 = pd.read_csv(\"/content/Students_marks_6.csv\", index_col = 0)\n",
        "marks7 = pd.read_csv(\"/content/Students_marks_7.csv\", index_col = 0)\n",
        "marks8 = pd.read_csv(\"/content/Students_marks_8.csv\", index_col = 0)\n",
        "marks9 = pd.read_csv(\"/content/Students_marks_9.csv\", index_col = 0)\n",
        "\n",
        "df_concat0 = pd.concat([info0, marks0], axis=1)\n",
        "df_concat1 = pd.concat([info1, marks1], axis=1)\n",
        "df_concat2 = pd.concat([info2, marks2], axis=1)\n",
        "df_concat3 = pd.concat([info3, marks3], axis=1)\n",
        "df_concat4 = pd.concat([info4, marks4], axis=1)\n",
        "df_concat5 = pd.concat([info5, marks5], axis=1)\n",
        "df_concat6 = pd.concat([info6, marks6], axis=1)\n",
        "df_concat7 = pd.concat([info7, marks7], axis=1)\n",
        "df_concat8 = pd.concat([info8, marks8], axis=1)\n",
        "df_concat9 = pd.concat([info9, marks9], axis=1)\n",
        "\n",
        "df_all = pd.concat([df_concat0, df_concat1, df_concat2, df_concat3, df_concat4, df_concat5, df_concat6, df_concat7, df_concat8, df_concat9])\n",
        "print(df_all.head(5))\n"
      ]
    },
    {
      "cell_type": "code",
      "source": [
        "df_all = df_all.reset_index(drop = True)\n",
        "print(df_all.head(10))"
      ],
      "metadata": {
        "colab": {
          "base_uri": "https://localhost:8080/"
        },
        "id": "oxjHmmYBIFbi",
        "outputId": "6cae6cfd-d74a-42e0-c193-498a964c10fd"
      },
      "execution_count": null,
      "outputs": [
        {
          "output_type": "stream",
          "name": "stdout",
          "text": [
            "   gender race/ethnicity parental level of education         lunch  \\\n",
            "0  female        group B           bachelor's degree      standard   \n",
            "1  female        group C                some college      standard   \n",
            "2  female        group B             master's degree      standard   \n",
            "3    male        group A          associate's degree  free/reduced   \n",
            "4    male        group C                some college      standard   \n",
            "5  female        group B          associate's degree      standard   \n",
            "6  female        group B                some college      standard   \n",
            "7    male        group B                some college  free/reduced   \n",
            "8    male        group D                 high school  free/reduced   \n",
            "9  female        group B                 high school  free/reduced   \n",
            "\n",
            "  test preparation course   group  math score  reading score  writing score  \n",
            "0                    none  group1          72             72             74  \n",
            "1               completed  group1          69             90             88  \n",
            "2                    none  group1          90             95             93  \n",
            "3                    none  group1          47             57             44  \n",
            "4                    none  group1          76             78             75  \n",
            "5                    none  group1          71             83             78  \n",
            "6               completed  group1          88             95             92  \n",
            "7                    none  group1          40             43             39  \n",
            "8               completed  group1          64             64             67  \n",
            "9                    none  group1          38             60             50  \n"
          ]
        }
      ]
    },
    {
      "cell_type": "code",
      "source": [
        "print(df_all.shape)"
      ],
      "metadata": {
        "colab": {
          "base_uri": "https://localhost:8080/"
        },
        "id": "GNqMX9DCOJWx",
        "outputId": "e79fab04-9704-4c02-f9b4-863fa763d921"
      },
      "execution_count": null,
      "outputs": [
        {
          "output_type": "stream",
          "name": "stdout",
          "text": [
            "(1000, 9)\n"
          ]
        }
      ]
    },
    {
      "cell_type": "code",
      "source": [
        "print(df_all.describe(percentiles=[]).drop('50%'))\n"
      ],
      "metadata": {
        "colab": {
          "base_uri": "https://localhost:8080/"
        },
        "id": "pLWNv2azOUWt",
        "outputId": "701e6ef1-8086-4b45-c392-f2d994edab50"
      },
      "execution_count": null,
      "outputs": [
        {
          "output_type": "stream",
          "name": "stdout",
          "text": [
            "       math score  reading score  writing score\n",
            "count  1000.00000    1000.000000    1000.000000\n",
            "mean     66.08900      69.169000      68.054000\n",
            "std      15.16308      14.600192      15.195657\n",
            "min       0.00000      17.000000      10.000000\n",
            "max     100.00000     100.000000     100.000000\n"
          ]
        }
      ]
    },
    {
      "cell_type": "code",
      "source": [
        "\"Если False, значит в столбце нет ни одного NaN\"\n",
        "print(df_all.isnull().any())\n",
        "print()\n",
        "\"А так можно проверить сразу для всей таблицы\"\n",
        "print(\"All Df:\", df_all.isnull().any().any())"
      ],
      "metadata": {
        "colab": {
          "base_uri": "https://localhost:8080/"
        },
        "id": "AP_jXPhwQoZo",
        "outputId": "85459456-9569-429c-fad0-5d636bc8be35"
      },
      "execution_count": null,
      "outputs": [
        {
          "output_type": "stream",
          "name": "stdout",
          "text": [
            "gender                         False\n",
            "race/ethnicity                 False\n",
            "parental level of education    False\n",
            "lunch                          False\n",
            "test preparation course        False\n",
            "group                          False\n",
            "math score                     False\n",
            "reading score                  False\n",
            "writing score                  False\n",
            "dtype: bool\n",
            "\n",
            "All Df: False\n"
          ]
        }
      ]
    },
    {
      "cell_type": "code",
      "source": [
        "print(\"Mean math score =\", df_all['math score'].mean())\n",
        "print(\"Mean reading score =\", df_all['reading score'].mean())\n",
        "print(\"Mean writing score =\", df_all['writing score'].mean())\n",
        "print()"
      ],
      "metadata": {
        "id": "yF30HEPzSbEa",
        "colab": {
          "base_uri": "https://localhost:8080/"
        },
        "outputId": "254a0fb8-6310-4949-f9ab-ab4fc3319eaa"
      },
      "execution_count": null,
      "outputs": [
        {
          "output_type": "stream",
          "name": "stdout",
          "text": [
            "Mean math score = 66.089\n",
            "Mean reading score = 69.169\n",
            "Mean writing score = 68.054\n",
            "\n"
          ]
        }
      ]
    },
    {
      "cell_type": "code",
      "source": [
        "print(\"Средние баллы тех, кто проходил курс:\")\n",
        "df_all_completed = df_all.loc[df_all['test preparation course'] == 'completed']\n",
        "print(\"Mean math score =\", df_all_completed['math score'].mean())\n",
        "print(\"Mean reading score =\", df_all_completed['reading score'].mean())\n",
        "print(\"Mean writing score =\", df_all_completed['writing score'].mean())\n",
        "print()\n",
        "print(\"Средние баллы тех, кто не проходил курс:\")\n",
        "df_all_none = df_all.loc[df_all['test preparation course'] == 'none']\n",
        "print(\"Mean math score =\", df_all_none['math score'].mean())\n",
        "print(\"Mean reading score =\", df_all_none['reading score'].mean())\n",
        "print(\"Mean writing score =\", df_all_none['writing score'].mean())"
      ],
      "metadata": {
        "colab": {
          "base_uri": "https://localhost:8080/"
        },
        "id": "bx9GzVPIIXog",
        "outputId": "3f044281-be0f-4ed2-b44b-676c3605d5d6"
      },
      "execution_count": null,
      "outputs": [
        {
          "output_type": "stream",
          "name": "stdout",
          "text": [
            "Средние баллы тех, кто проходил курс:\n",
            "Mean math score = 69.69553072625699\n",
            "Mean reading score = 73.89385474860335\n",
            "Mean writing score = 74.41899441340782\n",
            "\n",
            "Средние баллы тех, кто не проходил курс:\n",
            "Mean math score = 64.0778816199377\n",
            "Mean reading score = 66.53426791277259\n",
            "Mean writing score = 64.50467289719626\n"
          ]
        }
      ]
    },
    {
      "cell_type": "code",
      "source": [
        "unique = df_all['lunch'].unique()\n",
        "print(*unique)"
      ],
      "metadata": {
        "colab": {
          "base_uri": "https://localhost:8080/"
        },
        "id": "YiCYMeZSMMmQ",
        "outputId": "cb8c18df-0c16-41c0-b571-ca08878b36f6"
      },
      "execution_count": null,
      "outputs": [
        {
          "output_type": "stream",
          "name": "stdout",
          "text": [
            "standard free/reduced\n"
          ]
        }
      ]
    },
    {
      "cell_type": "code",
      "source": [
        "df_all = df_all.rename(columns = {'parental level of education': 'education', 'test preparation course' : 'test preparation'})\n",
        "print(df_all)\n"
      ],
      "metadata": {
        "colab": {
          "base_uri": "https://localhost:8080/"
        },
        "id": "wsxUGDkKNZVx",
        "outputId": "89537c01-d658-415f-ae94-52034f86d695"
      },
      "execution_count": null,
      "outputs": [
        {
          "output_type": "stream",
          "name": "stdout",
          "text": [
            "     gender race/ethnicity           education         lunch test preparation  \\\n",
            "0    female        group B   bachelor's degree      standard             none   \n",
            "1    female        group C        some college      standard        completed   \n",
            "2    female        group B     master's degree      standard             none   \n",
            "3      male        group A  associate's degree  free/reduced             none   \n",
            "4      male        group C        some college      standard             none   \n",
            "..      ...            ...                 ...           ...              ...   \n",
            "995  female        group E     master's degree      standard        completed   \n",
            "996    male        group C         high school  free/reduced             none   \n",
            "997  female        group C         high school  free/reduced        completed   \n",
            "998  female        group D        some college      standard        completed   \n",
            "999  female        group D        some college  free/reduced             none   \n",
            "\n",
            "       group  math score  reading score  writing score  \n",
            "0     group1          72             72             74  \n",
            "1     group1          69             90             88  \n",
            "2     group1          90             95             93  \n",
            "3     group1          47             57             44  \n",
            "4     group1          76             78             75  \n",
            "..       ...         ...            ...            ...  \n",
            "995  group10          88             99             95  \n",
            "996  group10          62             55             55  \n",
            "997  group10          59             71             65  \n",
            "998  group10          68             78             77  \n",
            "999  group10          77             86             86  \n",
            "\n",
            "[1000 rows x 9 columns]\n"
          ]
        }
      ]
    },
    {
      "cell_type": "code",
      "source": [
        "passmark = 50\n",
        "length = len(df_all)\n",
        "df_math = df_all.loc[df_all['math score'] >= passmark]\n",
        "len_passed = len(df_math)\n",
        "print(\"Доля студентов, сдавших экзамен по математике:\", len_passed / length)\n",
        "length_completed = len(df_all_completed)\n",
        "df_completed_math = df_all_completed.loc[df_all_completed['math score'] >= passmark]\n",
        "len_completed_passed_math = len(df_completed_math)\n",
        "print(\"Доля студентов, прошедших курс, которые сдали экзамен:\", len_completed_passed_math / length)\n",
        "len_none = len(df_all_none)\n",
        "df_none_women = df_all_none.loc[df_all_none['gender'] == 'female']\n",
        "df_none_women_nopass = df_none_women.loc[df_none_women['math score'] < passmark]\n",
        "len_nopass = len(df_none_women_nopass)\n",
        "print(\"Доля женщин, не проходивших курс подготовки, которые не сдали экзамен:\", len_nopass / length)"
      ],
      "metadata": {
        "colab": {
          "base_uri": "https://localhost:8080/"
        },
        "id": "vZf8sXcpO_CV",
        "outputId": "ef461ffa-7ffe-4ee7-8993-efe04cbf5969"
      },
      "execution_count": null,
      "outputs": [
        {
          "output_type": "stream",
          "name": "stdout",
          "text": [
            "Доля студентов, сдавших экзамен по математике: 0.865\n",
            "Доля студентов, прошедших курс, которые сдали экзамен: 0.33\n",
            "Доля женщин, не проходивших курс подготовки, которые не сдали экзамен: 0.07\n"
          ]
        }
      ]
    },
    {
      "cell_type": "code",
      "source": [
        "start = time.time()\n",
        "races = df_all.groupby(['race/ethnicity'])\n",
        "print(races['reading score'].mean())\n",
        "end = time.time()\n",
        "print(\"Time:\", end - start)"
      ],
      "metadata": {
        "colab": {
          "base_uri": "https://localhost:8080/"
        },
        "id": "6fAexD8CUbOC",
        "outputId": "4938b8f9-0a3a-4260-f3d6-4166f7665e85"
      },
      "execution_count": null,
      "outputs": [
        {
          "output_type": "stream",
          "name": "stdout",
          "text": [
            "race/ethnicity\n",
            "group A    64.674157\n",
            "group B    67.352632\n",
            "group C    69.103448\n",
            "group D    70.030534\n",
            "group E    73.028571\n",
            "Name: reading score, dtype: float64\n",
            "Time: 0.004378795623779297\n"
          ]
        }
      ]
    },
    {
      "cell_type": "code",
      "source": [
        "start1 = time.time()\n",
        "degrees = df_all.groupby(['education'])\n",
        "print(degrees['writing score'].min())\n",
        "end1 = time.time()\n",
        "print(\"Time:\", end1-start1)"
      ],
      "metadata": {
        "colab": {
          "base_uri": "https://localhost:8080/"
        },
        "id": "UaGD1YynWWtO",
        "outputId": "c546f9eb-f543-4d58-cbe7-5f0fe9db0b93"
      },
      "execution_count": null,
      "outputs": [
        {
          "output_type": "stream",
          "name": "stdout",
          "text": [
            "education\n",
            "associate's degree    35\n",
            "bachelor's degree     38\n",
            "high school           15\n",
            "master's degree       46\n",
            "some college          19\n",
            "some high school      10\n",
            "Name: writing score, dtype: int64\n",
            "Time: 0.0024461746215820312\n"
          ]
        }
      ]
    },
    {
      "cell_type": "code",
      "source": [],
      "metadata": {
        "id": "FwfGwm5EfPgQ"
      },
      "execution_count": null,
      "outputs": []
    },
    {
      "cell_type": "code",
      "source": [
        "\n",
        "grouped = pd.pivot_table(data=df_all, index=['education', 'gender'], aggfunc='mean')\n",
        "grouped\n",
        "grouped.plot(kind='bar')"
      ],
      "metadata": {
        "colab": {
          "base_uri": "https://localhost:8080/",
          "height": 709
        },
        "id": "IoW9VslTYUJc",
        "outputId": "8a438ce5-fb6c-4055-dfe5-5401199f30a6"
      },
      "execution_count": null,
      "outputs": [
        {
          "output_type": "stream",
          "name": "stderr",
          "text": [
            "<ipython-input-250-095445b8c994>:1: FutureWarning: pivot_table dropped a column because it failed to aggregate. This behavior is deprecated and will raise in a future version of pandas. Select only the columns that can be aggregated.\n",
            "  grouped = pd.pivot_table(data=df_all, index=['education', 'gender'], aggfunc='mean')\n"
          ]
        },
        {
          "output_type": "execute_result",
          "data": {
            "text/plain": [
              "<Axes: xlabel='education,gender'>"
            ]
          },
          "metadata": {},
          "execution_count": 250
        },
        {
          "output_type": "display_data",
          "data": {
            "text/plain": [
              "<Figure size 640x480 with 1 Axes>"
            ],
            "image/png": "[encoded data removed]"
          },
          "metadata": {}
        }
      ]
    },
    {
      "cell_type": "code",
      "source": [
        "df_all['Math_PassStatus'] = df_all['math score'].apply(lambda x: 'P' if x >= passmark else 'F')\n",
        "print('Статистика для математики:')\n",
        "print(df_all['Math_PassStatus'].value_counts())\n",
        "df_all['Reading_PassStatus'] = df_all['reading score'].apply(lambda x: 'P' if x >= passmark else 'F')\n",
        "print('Статистика для чтения:')\n",
        "print(df_all['Reading_PassStatus'].value_counts())\n",
        "df_all['Writing_PassStatus'] = df_all['writing score'].apply(lambda x: 'P' if x >= passmark else 'F')\n",
        "print('Статистика для письма:')\n",
        "print(df_all['Writing_PassStatus'].value_counts())\n"
      ],
      "metadata": {
        "colab": {
          "base_uri": "https://localhost:8080/"
        },
        "id": "0WcIYa5df1at",
        "outputId": "8ff34318-a966-48f2-e247-95d3ac47ef30"
      },
      "execution_count": null,
      "outputs": [
        {
          "output_type": "stream",
          "name": "stdout",
          "text": [
            "Статистика для математики:\n",
            "P    865\n",
            "F    135\n",
            "Name: Math_PassStatus, dtype: int64\n",
            "Статистика для чтения:\n",
            "P    910\n",
            "F     90\n",
            "Name: Reading_PassStatus, dtype: int64\n",
            "Статистика для письма:\n",
            "P    886\n",
            "F    114\n",
            "Name: Writing_PassStatus, dtype: int64\n"
          ]
        }
      ]
    },
    {
      "cell_type": "code",
      "source": [
        "df_all"
      ],
      "metadata": {
        "colab": {
          "base_uri": "https://localhost:8080/",
          "height": 424
        },
        "id": "nqT3eonZjWAT",
        "outputId": "5e7a235a-0a34-46f6-d8f4-debad3b3fd01"
      },
      "execution_count": null,
      "outputs": [
        {
          "output_type": "execute_result",
          "data": {
            "text/plain": [
              "     gender race/ethnicity           education         lunch test preparation  \\\n",
              "0    female        group B   bachelor's degree      standard             none   \n",
              "1    female        group C        some college      standard        completed   \n",
              "2    female        group B     master's degree      standard             none   \n",
              "3      male        group A  associate's degree  free/reduced             none   \n",
              "4      male        group C        some college      standard             none   \n",
              "..      ...            ...                 ...           ...              ...   \n",
              "995  female        group E     master's degree      standard        completed   \n",
              "996    male        group C         high school  free/reduced             none   \n",
              "997  female        group C         high school  free/reduced        completed   \n",
              "998  female        group D        some college      standard        completed   \n",
              "999  female        group D        some college  free/reduced             none   \n",
              "\n",
              "       group  math score  reading score  writing score Math_PassStatus  \\\n",
              "0     group1          72             72             74               P   \n",
              "1     group1          69             90             88               P   \n",
              "2     group1          90             95             93               P   \n",
              "3     group1          47             57             44               F   \n",
              "4     group1          76             78             75               P   \n",
              "..       ...         ...            ...            ...             ...   \n",
              "995  group10          88             99             95               P   \n",
              "996  group10          62             55             55               P   \n",
              "997  group10          59             71             65               P   \n",
              "998  group10          68             78             77               P   \n",
              "999  group10          77             86             86               P   \n",
              "\n",
              "    Reading_PassStatus Writing_PassStatus  \n",
              "0                    P                  P  \n",
              "1                    P                  P  \n",
              "2                    P                  P  \n",
              "3                    P                  F  \n",
              "4                    P                  P  \n",
              "..                 ...                ...  \n",
              "995                  P                  P  \n",
              "996                  P                  P  \n",
              "997                  P                  P  \n",
              "998                  P                  P  \n",
              "999                  P                  P  \n",
              "\n",
              "[1000 rows x 12 columns]"
            ],
            "text/html": [
              "\n",
              "  <div id=\"df-a629a63e-5ed7-4345-aef5-05f7315036b8\" class=\"colab-df-container\">\n",
              "    <div>\n",
              "<style scoped>\n",
              "    .dataframe tbody tr th:only-of-type {\n",
              "        vertical-align: middle;\n",
              "    }\n",
              "\n",
              "    .dataframe tbody tr th {\n",
              "        vertical-align: top;\n",
              "    }\n",
              "\n",
              "    .dataframe thead th {\n",
              "        text-align: right;\n",
              "    }\n",
              "</style>\n",
              "<table border=\"1\" class=\"dataframe\">\n",
              "  <thead>\n",
              "    <tr style=\"text-align: right;\">\n",
              "      <th></th>\n",
              "      <th>gender</th>\n",
              "      <th>race/ethnicity</th>\n",
              "      <th>education</th>\n",
              "      <th>lunch</th>\n",
              "      <th>test preparation</th>\n",
              "      <th>group</th>\n",
              "      <th>math score</th>\n",
              "      <th>reading score</th>\n",
              "      <th>writing score</th>\n",
              "      <th>Math_PassStatus</th>\n",
              "      <th>Reading_PassStatus</th>\n",
              "      <th>Writing_PassStatus</th>\n",
              "    </tr>\n",
              "  </thead>\n",
              "  <tbody>\n",
              "    <tr>\n",
              "      <th>0</th>\n",
              "      <td>female</td>\n",
              "      <td>group B</td>\n",
              "      <td>bachelor's degree</td>\n",
              "      <td>standard</td>\n",
              "      <td>none</td>\n",
              "      <td>group1</td>\n",
              "      <td>72</td>\n",
              "      <td>72</td>\n",
              "      <td>74</td>\n",
              "      <td>P</td>\n",
              "      <td>P</td>\n",
              "      <td>P</td>\n",
              "    </tr>\n",
              "    <tr>\n",
              "      <th>1</th>\n",
              "      <td>female</td>\n",
              "      <td>group C</td>\n",
              "      <td>some college</td>\n",
              "      <td>standard</td>\n",
              "      <td>completed</td>\n",
              "      <td>group1</td>\n",
              "      <td>69</td>\n",
              "      <td>90</td>\n",
              "      <td>88</td>\n",
              "      <td>P</td>\n",
              "      <td>P</td>\n",
              "      <td>P</td>\n",
              "    </tr>\n",
              "    <tr>\n",
              "      <th>2</th>\n",
              "      <td>female</td>\n",
              "      <td>group B</td>\n",
              "      <td>master's degree</td>\n",
              "      <td>standard</td>\n",
              "      <td>none</td>\n",
              "      <td>group1</td>\n",
              "      <td>90</td>\n",
              "      <td>95</td>\n",
              "      <td>93</td>\n",
              "      <td>P</td>\n",
              "      <td>P</td>\n",
              "      <td>P</td>\n",
              "    </tr>\n",
              "    <tr>\n",
              "      <th>3</th>\n",
              "      <td>male</td>\n",
              "      <td>group A</td>\n",
              "      <td>associate's degree</td>\n",
              "      <td>free/reduced</td>\n",
              "      <td>none</td>\n",
              "      <td>group1</td>\n",
              "      <td>47</td>\n",
              "      <td>57</td>\n",
              "      <td>44</td>\n",
              "      <td>F</td>\n",
              "      <td>P</td>\n",
              "      <td>F</td>\n",
              "    </tr>\n",
              "    <tr>\n",
              "      <th>4</th>\n",
              "      <td>male</td>\n",
              "      <td>group C</td>\n",
              "      <td>some college</td>\n",
              "      <td>standard</td>\n",
              "      <td>none</td>\n",
              "      <td>group1</td>\n",
              "      <td>76</td>\n",
              "      <td>78</td>\n",
              "      <td>75</td>\n",
              "      <td>P</td>\n",
              "      <td>P</td>\n",
              "      <td>P</td>\n",
              "    </tr>\n",
              "    <tr>\n",
              "      <th>...</th>\n",
              "      <td>...</td>\n",
              "      <td>...</td>\n",
              "      <td>...</td>\n",
              "      <td>...</td>\n",
              "      <td>...</td>\n",
              "      <td>...</td>\n",
              "      <td>...</td>\n",
              "      <td>...</td>\n",
              "      <td>...</td>\n",
              "      <td>...</td>\n",
              "      <td>...</td>\n",
              "      <td>...</td>\n",
              "    </tr>\n",
              "    <tr>\n",
              "      <th>995</th>\n",
              "      <td>female</td>\n",
              "      <td>group E</td>\n",
              "      <td>master's degree</td>\n",
              "      <td>standard</td>\n",
              "      <td>completed</td>\n",
              "      <td>group10</td>\n",
              "      <td>88</td>\n",
              "      <td>99</td>\n",
              "      <td>95</td>\n",
              "      <td>P</td>\n",
              "      <td>P</td>\n",
              "      <td>P</td>\n",
              "    </tr>\n",
              "    <tr>\n",
              "      <th>996</th>\n",
              "      <td>male</td>\n",
              "      <td>group C</td>\n",
              "      <td>high school</td>\n",
              "      <td>free/reduced</td>\n",
              "      <td>none</td>\n",
              "      <td>group10</td>\n",
              "      <td>62</td>\n",
              "      <td>55</td>\n",
              "      <td>55</td>\n",
              "      <td>P</td>\n",
              "      <td>P</td>\n",
              "      <td>P</td>\n",
              "    </tr>\n",
              "    <tr>\n",
              "      <th>997</th>\n",
              "      <td>female</td>\n",
              "      <td>group C</td>\n",
              "      <td>high school</td>\n",
              "      <td>free/reduced</td>\n",
              "      <td>completed</td>\n",
              "      <td>group10</td>\n",
              "      <td>59</td>\n",
              "      <td>71</td>\n",
              "      <td>65</td>\n",
              "      <td>P</td>\n",
              "      <td>P</td>\n",
              "      <td>P</td>\n",
              "    </tr>\n",
              "    <tr>\n",
              "      <th>998</th>\n",
              "      <td>female</td>\n",
              "      <td>group D</td>\n",
              "      <td>some college</td>\n",
              "      <td>standard</td>\n",
              "      <td>completed</td>\n",
              "      <td>group10</td>\n",
              "      <td>68</td>\n",
              "      <td>78</td>\n",
              "      <td>77</td>\n",
              "      <td>P</td>\n",
              "      <td>P</td>\n",
              "      <td>P</td>\n",
              "    </tr>\n",
              "    <tr>\n",
              "      <th>999</th>\n",
              "      <td>female</td>\n",
              "      <td>group D</td>\n",
              "      <td>some college</td>\n",
              "      <td>free/reduced</td>\n",
              "      <td>none</td>\n",
              "      <td>group10</td>\n",
              "      <td>77</td>\n",
              "      <td>86</td>\n",
              "      <td>86</td>\n",
              "      <td>P</td>\n",
              "      <td>P</td>\n",
              "      <td>P</td>\n",
              "    </tr>\n",
              "  </tbody>\n",
              "</table>\n",
              "<p>1000 rows × 12 columns</p>\n",
              "</div>\n",
              "    <div class=\"colab-df-buttons\">\n",
              "\n",
              "  <div class=\"colab-df-container\">\n",
              "    <button class=\"colab-df-convert\" onclick=\"convertToInteractive('df-a629a63e-5ed7-4345-aef5-05f7315036b8')\"\n",
              "            title=\"Convert this dataframe to an interactive table.\"\n",
              "            style=\"display:none;\">\n",
              "\n",
              "  <svg xmlns=\"http://www.w3.org/2000/svg\" height=\"24px\" viewBox=\"0 -960 960 960\">\n",
              "    <path d=\"M120-120v-720h720v720H120Zm60-500h600v-160H180v160Zm220 220h160v-160H400v160Zm0 220h160v-160H400v160ZM180-400h160v-160H180v160Zm440 0h160v-160H620v160ZM180-180h160v-160H180v160Zm440 0h160v-160H620v160Z\"/>\n",
              "  </svg>\n",
              "    </button>\n",
              "\n",
              "  <style>\n",
              "    .colab-df-container {\n",
              "      display:flex;\n",
              "      gap: 12px;\n",
              "    }\n",
              "\n",
              "    .colab-df-convert {\n",
              "      background-color: #E8F0FE;\n",
              "      border: none;\n",
              "      border-radius: 50%;\n",
              "      cursor: pointer;\n",
              "      display: none;\n",
              "      fill: #1967D2;\n",
              "      height: 32px;\n",
              "      padding: 0 0 0 0;\n",
              "      width: 32px;\n",
              "    }\n",
              "\n",
              "    .colab-df-convert:hover {\n",
              "      background-color: #E2EBFA;\n",
              "      box-shadow: 0px 1px 2px rgba(60, 64, 67, 0.3), 0px 1px 3px 1px rgba(60, 64, 67, 0.15);\n",
              "      fill: #174EA6;\n",
              "    }\n",
              "\n",
              "    .colab-df-buttons div {\n",
              "      margin-bottom: 4px;\n",
              "    }\n",
              "\n",
              "    [theme=dark] .colab-df-convert {\n",
              "      background-color: #3B4455;\n",
              "      fill: #D2E3FC;\n",
              "    }\n",
              "\n",
              "    [theme=dark] .colab-df-convert:hover {\n",
              "      background-color: #434B5C;\n",
              "      box-shadow: 0px 1px 3px 1px rgba(0, 0, 0, 0.15);\n",
              "      filter: drop-shadow(0px 1px 2px rgba(0, 0, 0, 0.3));\n",
              "      fill: #FFFFFF;\n",
              "    }\n",
              "  </style>\n",
              "\n",
              "    <script>\n",
              "      const buttonEl =\n",
              "        document.querySelector('#df-a629a63e-5ed7-4345-aef5-05f7315036b8 button.colab-df-convert');\n",
              "      buttonEl.style.display =\n",
              "        google.colab.kernel.accessAllowed ? 'block' : 'none';\n",
              "\n",
              "      async function convertToInteractive(key) {\n",
              "        const element = document.querySelector('#df-a629a63e-5ed7-4345-aef5-05f7315036b8');\n",
              "        const dataTable =\n",
              "          await google.colab.kernel.invokeFunction('convertToInteractive',\n",
              "                                                    [key], {});\n",
              "        if (!dataTable) return;\n",
              "\n",
              "        const docLinkHtml = 'Like what you see? Visit the ' +\n",
              "          '<a target=\"_blank\" href=https://colab.research.google.com/notebooks/data_table.ipynb>data table notebook</a>'\n",
              "          + ' to learn more about interactive tables.';\n",
              "        element.innerHTML = '';\n",
              "        dataTable['output_type'] = 'display_data';\n",
              "        await google.colab.output.renderOutput(dataTable, element);\n",
              "        const docLink = document.createElement('div');\n",
              "        docLink.innerHTML = docLinkHtml;\n",
              "        element.appendChild(docLink);\n",
              "      }\n",
              "    </script>\n",
              "  </div>\n",
              "\n",
              "\n",
              "<div id=\"df-9a7b05ac-b69f-469c-a7ad-334f2d8fa133\">\n",
              "  <button class=\"colab-df-quickchart\" onclick=\"quickchart('df-9a7b05ac-b69f-469c-a7ad-334f2d8fa133')\"\n",
              "            title=\"Suggest charts\"\n",
              "            style=\"display:none;\">\n",
              "\n",
              "<svg xmlns=\"http://www.w3.org/2000/svg\" height=\"24px\"viewBox=\"0 0 24 24\"\n",
              "     width=\"24px\">\n",
              "    <g>\n",
              "        <path d=\"M19 3H5c-1.1 0-2 .9-2 2v14c0 1.1.9 2 2 2h14c1.1 0 2-.9 2-2V5c0-1.1-.9-2-2-2zM9 17H7v-7h2v7zm4 0h-2V7h2v10zm4 0h-2v-4h2v4z\"/>\n",
              "    </g>\n",
              "</svg>\n",
              "  </button>\n",
              "\n",
              "<style>\n",
              "  .colab-df-quickchart {\n",
              "      --bg-color: #E8F0FE;\n",
              "      --fill-color: #1967D2;\n",
              "      --hover-bg-color: #E2EBFA;\n",
              "      --hover-fill-color: #174EA6;\n",
              "      --disabled-fill-color: #AAA;\n",
              "      --disabled-bg-color: #DDD;\n",
              "  }\n",
              "\n",
              "  [theme=dark] .colab-df-quickchart {\n",
              "      --bg-color: #3B4455;\n",
              "      --fill-color: #D2E3FC;\n",
              "      --hover-bg-color: #434B5C;\n",
              "      --hover-fill-color: #FFFFFF;\n",
              "      --disabled-bg-color: #3B4455;\n",
              "      --disabled-fill-color: #666;\n",
              "  }\n",
              "\n",
              "  .colab-df-quickchart {\n",
              "    background-color: var(--bg-color);\n",
              "    border: none;\n",
              "    border-radius: 50%;\n",
              "    cursor: pointer;\n",
              "    display: none;\n",
              "    fill: var(--fill-color);\n",
              "    height: 32px;\n",
              "    padding: 0;\n",
              "    width: 32px;\n",
              "  }\n",
              "\n",
              "  .colab-df-quickchart:hover {\n",
              "    background-color: var(--hover-bg-color);\n",
              "    box-shadow: 0 1px 2px rgba(60, 64, 67, 0.3), 0 1px 3px 1px rgba(60, 64, 67, 0.15);\n",
              "    fill: var(--button-hover-fill-color);\n",
              "  }\n",
              "\n",
              "  .colab-df-quickchart-complete:disabled,\n",
              "  .colab-df-quickchart-complete:disabled:hover {\n",
              "    background-color: var(--disabled-bg-color);\n",
              "    fill: var(--disabled-fill-color);\n",
              "    box-shadow: none;\n",
              "  }\n",
              "\n",
              "  .colab-df-spinner {\n",
              "    border: 2px solid var(--fill-color);\n",
              "    border-color: transparent;\n",
              "    border-bottom-color: var(--fill-color);\n",
              "    animation:\n",
              "      spin 1s steps(1) infinite;\n",
              "  }\n",
              "\n",
              "  @keyframes spin {\n",
              "    0% {\n",
              "      border-color: transparent;\n",
              "      border-bottom-color: var(--fill-color);\n",
              "      border-left-color: var(--fill-color);\n",
              "    }\n",
              "    20% {\n",
              "      border-color: transparent;\n",
              "      border-left-color: var(--fill-color);\n",
              "      border-top-color: var(--fill-color);\n",
              "    }\n",
              "    30% {\n",
              "      border-color: transparent;\n",
              "      border-left-color: var(--fill-color);\n",
              "      border-top-color: var(--fill-color);\n",
              "      border-right-color: var(--fill-color);\n",
              "    }\n",
              "    40% {\n",
              "      border-color: transparent;\n",
              "      border-right-color: var(--fill-color);\n",
              "      border-top-color: var(--fill-color);\n",
              "    }\n",
              "    60% {\n",
              "      border-color: transparent;\n",
              "      border-right-color: var(--fill-color);\n",
              "    }\n",
              "    80% {\n",
              "      border-color: transparent;\n",
              "      border-right-color: var(--fill-color);\n",
              "      border-bottom-color: var(--fill-color);\n",
              "    }\n",
              "    90% {\n",
              "      border-color: transparent;\n",
              "      border-bottom-color: var(--fill-color);\n",
              "    }\n",
              "  }\n",
              "</style>\n",
              "\n",
              "  <script>\n",
              "    async function quickchart(key) {\n",
              "      const quickchartButtonEl =\n",
              "        document.querySelector('#' + key + ' button');\n",
              "      quickchartButtonEl.disabled = true;  // To prevent multiple clicks.\n",
              "      quickchartButtonEl.classList.add('colab-df-spinner');\n",
              "      try {\n",
              "        const charts = await google.colab.kernel.invokeFunction(\n",
              "            'suggestCharts', [key], {});\n",
              "      } catch (error) {\n",
              "        console.error('Error during call to suggestCharts:', error);\n",
              "      }\n",
              "      quickchartButtonEl.classList.remove('colab-df-spinner');\n",
              "      quickchartButtonEl.classList.add('colab-df-quickchart-complete');\n",
              "    }\n",
              "    (() => {\n",
              "      let quickchartButtonEl =\n",
              "        document.querySelector('#df-9a7b05ac-b69f-469c-a7ad-334f2d8fa133 button');\n",
              "      quickchartButtonEl.style.display =\n",
              "        google.colab.kernel.accessAllowed ? 'block' : 'none';\n",
              "    })();\n",
              "  </script>\n",
              "</div>\n",
              "    </div>\n",
              "  </div>\n"
            ]
          },
          "metadata": {},
          "execution_count": 262
        }
      ]
    },
    {
      "cell_type": "code",
      "source": [
        "df_all['OverAll_PassStatus'] = df_all.apply(lambda x: 'P' if min(x['math score'], x['writing score'], x['reading score']) >= passmark else 'F', axis=1)\n",
        "print(df_all['OverAll_PassStatus'].value_counts().drop('F'))\n"
      ],
      "metadata": {
        "colab": {
          "base_uri": "https://localhost:8080/"
        },
        "id": "YMCvpWqQiBzv",
        "outputId": "cf08f364-581f-45c0-abb5-5b9201865f80"
      },
      "execution_count": null,
      "outputs": [
        {
          "output_type": "stream",
          "name": "stdout",
          "text": [
            "P    812\n",
            "Name: OverAll_PassStatus, dtype: int64\n"
          ]
        }
      ]
    },
    {
      "cell_type": "code",
      "source": [
        "df_all['Mean'] = df_all[['math score', 'writing score', 'reading score']].mean(axis=1)\n",
        "def GetGrade(average_mark):\n",
        "  if average_mark > 90:\n",
        "    return 'A'\n",
        "  elif 80 < average_mark <= 90:\n",
        "    return 'B'\n",
        "  elif 70 < average_mark <= 80:\n",
        "    return 'C'\n",
        "  elif 60 < average_mark <= 70:\n",
        "    return 'D'\n",
        "  elif 50 < average_mark <= 60:\n",
        "    return 'E'\n",
        "  else:\n",
        "    return 'F'\n",
        "df_all['Grade'] = df_all['Mean'].apply(GetGrade)\n",
        "print(df_all['Grade'].value_counts())"
      ],
      "metadata": {
        "colab": {
          "base_uri": "https://localhost:8080/"
        },
        "id": "NK1lchtmlAYy",
        "outputId": "c8145424-04e4-410e-f4f3-7c44466b94fe"
      },
      "execution_count": null,
      "outputs": [
        {
          "output_type": "stream",
          "name": "stdout",
          "text": [
            "     gender race/ethnicity           education         lunch test preparation  \\\n",
            "0    female        group B   bachelor's degree      standard             none   \n",
            "1    female        group C        some college      standard        completed   \n",
            "2    female        group B     master's degree      standard             none   \n",
            "3      male        group A  associate's degree  free/reduced             none   \n",
            "4      male        group C        some college      standard             none   \n",
            "..      ...            ...                 ...           ...              ...   \n",
            "995  female        group E     master's degree      standard        completed   \n",
            "996    male        group C         high school  free/reduced             none   \n",
            "997  female        group C         high school  free/reduced        completed   \n",
            "998  female        group D        some college      standard        completed   \n",
            "999  female        group D        some college  free/reduced             none   \n",
            "\n",
            "       group  math score  reading score  writing score Math_PassStatus  \\\n",
            "0     group1          72             72             74               P   \n",
            "1     group1          69             90             88               P   \n",
            "2     group1          90             95             93               P   \n",
            "3     group1          47             57             44               F   \n",
            "4     group1          76             78             75               P   \n",
            "..       ...         ...            ...            ...             ...   \n",
            "995  group10          88             99             95               P   \n",
            "996  group10          62             55             55               P   \n",
            "997  group10          59             71             65               P   \n",
            "998  group10          68             78             77               P   \n",
            "999  group10          77             86             86               P   \n",
            "\n",
            "    Reading_PassStatus Writing_PassStatus OverAll_PassStatus       Mean Grade  \n",
            "0                    P                  P                  P  72.666667     C  \n",
            "1                    P                  P                  P  82.333333     B  \n",
            "2                    P                  P                  P  92.666667     A  \n",
            "3                    P                  F                  F  49.333333     F  \n",
            "4                    P                  P                  P  76.333333     C  \n",
            "..                 ...                ...                ...        ...   ...  \n",
            "995                  P                  P                  P  94.000000     A  \n",
            "996                  P                  P                  P  57.333333     E  \n",
            "997                  P                  P                  P  65.000000     D  \n",
            "998                  P                  P                  P  74.333333     C  \n",
            "999                  P                  P                  P  83.000000     B  \n",
            "\n",
            "[1000 rows x 15 columns]\n",
            "D    260\n",
            "C    253\n",
            "E    184\n",
            "B    144\n",
            "F    109\n",
            "A     50\n",
            "Name: Grade, dtype: int64\n"
          ]
        }
      ]
    }
  ]
}